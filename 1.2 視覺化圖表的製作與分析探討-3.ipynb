{
 "cells": [
  {
   "attachments": {},
   "cell_type": "markdown",
   "metadata": {},
   "source": [
    "# 一、\t股票之基本分析探討"
   ]
  },
  {
   "attachments": {},
   "cell_type": "markdown",
   "metadata": {},
   "source": [
    "## 1.2\t視覺化圖表的製作與分析探討（乖離率）"
   ]
  },
  {
   "cell_type": "code",
   "execution_count": 1,
   "metadata": {},
   "outputs": [],
   "source": [
    "import pandas_datareader.data as web\n",
    "import pandas as pd \n",
    "import datetime \n",
    "import xlrd\n",
    "import xlwt"
   ]
  },
  {
   "cell_type": "code",
   "execution_count": 2,
   "metadata": {},
   "outputs": [],
   "source": [
    "sum=0\n",
    "list=[]\n",
    "\n",
    "start = datetime.datetime(2020,1,1)\n",
    "end   = datetime.datetime(2020,5,15)\n",
    "df_stock=web.DataReader(['2330.TW'],'yahoo',start,end)\n",
    "writer=pd.ExcelWriter('2330.xls')\n",
    "df_stock.to_excel(writer,'Sheet1')\n",
    "writer.save()\n",
    "data=xlrd.open_workbook('2330.xls')\n",
    "table=data.sheets()[0]\n",
    "#2330"
   ]
  },
  {
   "cell_type": "code",
   "execution_count": 3,
   "metadata": {},
   "outputs": [
    {
     "name": "stdout",
     "output_type": "stream",
     "text": [
      "2020 / 3 / 17 乖離率 -0.15908377784750546  股價乖離率低於15%，應買入\n",
      "2020 / 3 / 18 乖離率 -0.18015556022703383  股價乖離率低於15%，應買入\n",
      "2020 / 3 / 19 乖離率 -0.21261509154407868  股價乖離率低於15%，應買入\n",
      "2020 / 3 / 23 乖離率 -0.17803803588696684  股價乖離率低於15%，應買入\n"
     ]
    }
   ],
   "source": [
    "var=33\n",
    "#30日移動平均\n",
    "for i in range(33,89):\n",
    "    for i in range (var-30,var):\n",
    "        sum+=table.cell(i,2).value\n",
    "        avg=sum/30\n",
    "    list.append(avg)\n",
    "    #print(avg)\n",
    "    sum=0\n",
    "    var+=1\n",
    "\n",
    "for i in range (33,89): \n",
    "    bias=(table.cell(i,2).value-list[i-33])/list[i-33]\n",
    "    if bias>0.15:\n",
    "        x=xlrd.xldate_as_tuple(table.cell(i,0).value,0)\n",
    "        print(x[0],'/',x[1],'/',x[2],\"乖離率\",bias,\" 股價乖離率超過15%，應賣出\")\n",
    "    elif bias<-0.15:\n",
    "        x=xlrd.xldate_as_tuple(table.cell(i,0).value,0)\n",
    "        print(x[0],'/',x[1],'/',x[2],\"乖離率\",bias,\" 股價乖離率低於15%，應買入\")"
   ]
  },
  {
   "cell_type": "code",
   "execution_count": null,
   "metadata": {},
   "outputs": [],
   "source": []
  }
 ],
 "metadata": {
  "kernelspec": {
   "display_name": "Python 3",
   "language": "python",
   "name": "python3"
  },
  "language_info": {
   "codemirror_mode": {
    "name": "ipython",
    "version": 3
   },
   "file_extension": ".py",
   "mimetype": "text/x-python",
   "name": "python",
   "nbconvert_exporter": "python",
   "pygments_lexer": "ipython3",
   "version": "3.7.4"
  }
 },
 "nbformat": 4,
 "nbformat_minor": 2
}
