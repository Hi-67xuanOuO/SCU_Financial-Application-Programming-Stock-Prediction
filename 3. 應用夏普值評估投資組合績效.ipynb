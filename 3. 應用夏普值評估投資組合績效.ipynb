{
 "cells": [
  {
   "cell_type": "code",
   "execution_count": 348,
   "metadata": {
    "scrolled": true
   },
   "outputs": [],
   "source": [
    "#目標:用收盤價算每日報酬率，再用報酬率算出相關係數與標準差。\n",
    "#最後進行投資組合不同權重下的夏普值進行投資績效評比\n",
    "\n",
    "import math\n",
    "import pandas as pd\n",
    "import pandas_datareader.data as pdr\n",
    "import datetime as datetime"
   ]
  },
  {
   "cell_type": "code",
   "execution_count": 349,
   "metadata": {},
   "outputs": [
    {
     "name": "stdout",
     "output_type": "stream",
     "text": [
      "             High    Low   Open  Close      Volume   Adj Close       ROI\n",
      "Date                                                                    \n",
      "2019-06-21  248.5  246.0  248.0  248.5  61164304.0  232.825165  0.000000\n",
      "2019-06-24  242.0  240.0  241.0  241.0  43300507.0  233.309204 -0.030181\n",
      "2019-06-25  241.5  237.0  241.0  238.5  28559283.0  230.888992 -0.010373\n",
      "2019-06-26  236.5  234.0  235.0  234.5  27607041.0  227.016632 -0.016771\n",
      "2019-06-27  241.5  236.0  236.0  240.5  42007834.0  232.825165  0.025586\n",
      "...           ...    ...    ...    ...         ...         ...       ...\n",
      "2020-06-15  317.5  308.5  316.0  309.5  51032404.0  307.043640 -0.020570\n",
      "2020-06-16  317.0  314.0  317.0  315.0  36608216.0  312.500000  0.017771\n",
      "2020-06-17  317.0  313.5  316.5  315.0  34522968.0  312.500000  0.000000\n",
      "2020-06-18  315.0  313.0  314.5  314.5  29044474.0  314.500000 -0.001587\n",
      "2020-06-19  314.5  312.0  314.0  314.5  48130280.0  314.500000  0.000000\n",
      "\n",
      "[243 rows x 7 columns]\n"
     ]
    }
   ],
   "source": [
    "#爬股價資訊\n",
    "stock_number = '2330.TW'\n",
    "start = datetime.datetime(2019,6,21)\n",
    "end = datetime.datetime.now()\n",
    "DataFrame1 = pdr.DataReader(stock_number, 'yahoo', start, end)\n",
    "num = len(DataFrame1)\n",
    "pd.options.mode.chained_assignment = None \n",
    "\n",
    "#計算每日報酬率\n",
    "DataFrame1['ROI']=0.00000\n",
    "for i in range(1,num):\n",
    "    DataFrame1['ROI'][i] = (DataFrame1['Close'][i]-DataFrame1['Close'][i-1])/DataFrame1['Close'][i-1]\n",
    "\n",
    "print(DataFrame1)"
   ]
  },
  {
   "cell_type": "code",
   "execution_count": 350,
   "metadata": {},
   "outputs": [
    {
     "data": {
      "text/plain": [
       "Date\n",
       "2019-06-21    0.000000\n",
       "2019-06-24   -0.030181\n",
       "2019-06-25   -0.010373\n",
       "2019-06-26   -0.016771\n",
       "2019-06-27    0.025586\n",
       "                ...   \n",
       "2020-06-15   -0.020570\n",
       "2020-06-16    0.017771\n",
       "2020-06-17    0.000000\n",
       "2020-06-18   -0.001587\n",
       "2020-06-19    0.000000\n",
       "Name: ROI, Length: 243, dtype: float64"
      ]
     },
     "execution_count": 350,
     "metadata": {},
     "output_type": "execute_result"
    }
   ],
   "source": [
    "#每日報酬率\n",
    "DataFrame1['ROI']"
   ]
  },
  {
   "cell_type": "code",
   "execution_count": 351,
   "metadata": {},
   "outputs": [
    {
     "name": "stdout",
     "output_type": "stream",
     "text": [
      "             High    Low   Open  Close      Volume  Adj Close       ROI\n",
      "Date                                                                   \n",
      "2019-06-21  13.70  13.45  13.55  13.70  48460614.0  13.157615  0.000000\n",
      "2019-06-24  13.80  13.50  13.55  13.75  25972285.0  13.205636  0.003650\n",
      "2019-06-25  13.85  13.65  13.75  13.70  26154417.0  13.157615 -0.003636\n",
      "2019-06-26  13.95  13.75  13.85  13.80  59484921.0  13.253656  0.007299\n",
      "2019-06-27  14.10  13.90  13.95  14.00  62428579.0  13.445738  0.014493\n",
      "...           ...    ...    ...    ...         ...        ...       ...\n",
      "2020-06-15  15.50  15.30  15.45  15.40  81647335.0  15.400000 -0.019108\n",
      "2020-06-16  15.70  15.40  15.50  15.50  63149426.0  15.500000  0.006494\n",
      "2020-06-17  15.55  15.15  15.50  15.30  71145221.0  15.300000 -0.012903\n",
      "2020-06-18  15.45  15.25  15.30  15.35  56787627.0  15.350000  0.003268\n",
      "2020-06-19  15.60  15.40  15.40  15.40  57562916.0  15.400000  0.003257\n",
      "\n",
      "[243 rows x 7 columns]\n"
     ]
    }
   ],
   "source": [
    "stock_number2 = '2303.TW'\n",
    "start = datetime.datetime(2019,6,21)\n",
    "end = datetime.datetime.now()\n",
    "DataFrame2 = pdr.DataReader(stock_number2, 'yahoo', start, end)\n",
    "num = len(DataFrame2)\n",
    "pd.options.mode.chained_assignment = None \n",
    "\n",
    "DataFrame2['ROI']=0.00000\n",
    "for i in range(1,num):\n",
    "    DataFrame2['ROI'][i] = (DataFrame2['Close'][i]-DataFrame2['Close'][i-1])/DataFrame2['Close'][i-1]\n",
    "\n",
    "print(DataFrame2)\n"
   ]
  },
  {
   "cell_type": "code",
   "execution_count": 352,
   "metadata": {},
   "outputs": [
    {
     "name": "stdout",
     "output_type": "stream",
     "text": [
      "                 High        Low       Open      Close      Volume  Adj Close  \\\n",
      "Date                                                                            \n",
      "2019-06-21  22.850000  22.100000  22.400000  22.100000  59964697.0  20.265354   \n",
      "2019-06-24  22.950001  22.150000  22.400000  22.549999  63353996.0  20.677996   \n",
      "2019-06-25  22.799999  22.150000  22.600000  22.150000  38391810.0  20.311201   \n",
      "2019-06-26  22.750000  22.350000  22.350000  22.700001  40192564.0  20.815544   \n",
      "2019-06-27  23.500000  23.049999  23.299999  23.100000  52317371.0  21.182337   \n",
      "...               ...        ...        ...        ...         ...        ...   \n",
      "2020-06-15  31.850000  30.850000  31.250000  31.100000  31575680.0  31.100000   \n",
      "2020-06-16  32.799999  31.700001  31.700001  32.299999  53564244.0  32.299999   \n",
      "2020-06-17  32.500000  31.900000  32.400002  32.049999  37171951.0  32.049999   \n",
      "2020-06-18  32.250000  31.700001  31.950001  32.099998  29056432.0  32.099998   \n",
      "2020-06-19  32.950001  32.349998  32.450001  32.400002  50390866.0  32.400002   \n",
      "\n",
      "                 ROI  \n",
      "Date                  \n",
      "2019-06-21  0.000000  \n",
      "2019-06-24  0.020362  \n",
      "2019-06-25 -0.017738  \n",
      "2019-06-26  0.024831  \n",
      "2019-06-27  0.017621  \n",
      "...              ...  \n",
      "2020-06-15  0.000000  \n",
      "2020-06-16  0.038585  \n",
      "2020-06-17 -0.007740  \n",
      "2020-06-18  0.001560  \n",
      "2020-06-19  0.009346  \n",
      "\n",
      "[243 rows x 7 columns]\n"
     ]
    }
   ],
   "source": [
    "stock_number3 = '2337.TW'\n",
    "start = datetime.datetime(2019,6,21)\n",
    "end = datetime.datetime.now()\n",
    "DataFrame3 = pdr.DataReader(stock_number3, 'yahoo', start, end)\n",
    "num = len(DataFrame3)\n",
    "pd.options.mode.chained_assignment = None \n",
    "\n",
    "DataFrame3['ROI']=0.00000\n",
    "for i in range(1,num):\n",
    "    DataFrame3['ROI'][i] = (DataFrame3['Close'][i]-DataFrame3['Close'][i-1])/DataFrame3['Close'][i-1]\n",
    "\n",
    "print(DataFrame3)"
   ]
  },
  {
   "cell_type": "code",
   "execution_count": 353,
   "metadata": {},
   "outputs": [
    {
     "name": "stdout",
     "output_type": "stream",
     "text": [
      "0.0011178063427568971\n",
      "0.0006201478628365712\n",
      "0.0020580084317666576\n"
     ]
    }
   ],
   "source": [
    "#計算報酬率的平均數\n",
    "x_sum=0.0\n",
    "for i in range(1,num):\n",
    "    x_sum+=float(DataFrame1['ROI'][i])\n",
    "x_bar=x_sum/(num)\n",
    "print(x_bar)\n",
    "\n",
    "y_sum=0.0\n",
    "for i in range(1,num):\n",
    "    y_sum+=float(DataFrame2['ROI'][i])\n",
    "y_bar=y_sum/(num)\n",
    "print(y_bar)\n",
    "\n",
    "z_sum=0.0\n",
    "for i in range(1,num):\n",
    "    z_sum+=float(DataFrame3['ROI'][i])\n",
    "z_bar=z_sum/(num)\n",
    "print(z_bar)"
   ]
  },
  {
   "cell_type": "code",
   "execution_count": 354,
   "metadata": {},
   "outputs": [
    {
     "name": "stdout",
     "output_type": "stream",
     "text": [
      "             High    Low   Open  Close      Volume   Adj Close       ROI  \\\n",
      "Date                                                                       \n",
      "2019-06-21  248.5  246.0  248.0  248.5  61164304.0  232.825165  0.000000   \n",
      "2019-06-24  242.0  240.0  241.0  241.0  43300507.0  233.309204 -0.030181   \n",
      "2019-06-25  241.5  237.0  241.0  238.5  28559283.0  230.888992 -0.010373   \n",
      "2019-06-26  236.5  234.0  235.0  234.5  27607041.0  227.016632 -0.016771   \n",
      "2019-06-27  241.5  236.0  236.0  240.5  42007834.0  232.825165  0.025586   \n",
      "...           ...    ...    ...    ...         ...         ...       ...   \n",
      "2020-06-15  317.5  308.5  316.0  309.5  51032404.0  307.043640 -0.020570   \n",
      "2020-06-16  317.0  314.0  317.0  315.0  36608216.0  312.500000  0.017771   \n",
      "2020-06-17  317.0  313.5  316.5  315.0  34522968.0  312.500000  0.000000   \n",
      "2020-06-18  315.0  313.0  314.5  314.5  29044474.0  314.500000 -0.001587   \n",
      "2020-06-19  314.5  312.0  314.0  314.5  48130280.0  314.500000  0.000000   \n",
      "\n",
      "            Calculatex  Calculatey  Calculatez  \n",
      "Date                                            \n",
      "2019-06-21    0.000000    0.000000    0.000000  \n",
      "2019-06-24   -0.031299    0.003030    0.018304  \n",
      "2019-06-25   -0.011491   -0.004257   -0.019796  \n",
      "2019-06-26   -0.017889    0.006679    0.022773  \n",
      "2019-06-27    0.024469    0.013873    0.015563  \n",
      "...                ...         ...         ...  \n",
      "2020-06-15   -0.021687   -0.019728   -0.002058  \n",
      "2020-06-16    0.016653    0.005873    0.036527  \n",
      "2020-06-17   -0.001118   -0.013523   -0.009798  \n",
      "2020-06-18   -0.002705    0.002648   -0.000498  \n",
      "2020-06-19    0.000000    0.000000    0.000000  \n",
      "\n",
      "[243 rows x 10 columns]\n"
     ]
    }
   ],
   "source": [
    "#計算每日報酬率離均差\n",
    "DataFrame1['Calculatex']=0.00000\n",
    "DataFrame1['Calculatey']=0.00000\n",
    "DataFrame1['Calculatez']=0.00000\n",
    "for i in range(1,num-1):\n",
    "    DataFrame1['Calculatex'][i] = DataFrame1['ROI'][i]-x_bar\n",
    "    DataFrame1['Calculatey'][i] = DataFrame2['ROI'][i]-y_bar\n",
    "    DataFrame1['Calculatez'][i] = DataFrame3['ROI'][i]-z_bar\n",
    "\n",
    "print(DataFrame1)\n",
    "\n",
    "\n"
   ]
  },
  {
   "cell_type": "code",
   "execution_count": 355,
   "metadata": {},
   "outputs": [
    {
     "name": "stdout",
     "output_type": "stream",
     "text": [
      "0.03122934625002688\n",
      "0.06172123435815732\n",
      "0.037774833987809675\n"
     ]
    }
   ],
   "source": [
    "#計算相關係數的分子\n",
    "sumx_y=0.0\n",
    "for i in range(1,num):\n",
    "    sumx_y+=DataFrame1['Calculatex'][i]*DataFrame1['Calculatey'][i]\n",
    "print(sumx_y)#這是分子(X對Y)\n",
    "\n",
    "sumx_z=0.0\n",
    "for i in range(1,num):\n",
    "    sumx_z+=DataFrame1['Calculatex'][i]*DataFrame1['Calculatez'][i]\n",
    "print(sumx_z)#這是分子(X對Z)\n",
    "\n",
    "sumy_z=0.0\n",
    "for i in range(1,num):\n",
    "    sumy_z+=DataFrame1['Calculatey'][i]*DataFrame1['Calculatez'][i]\n",
    "print(sumy_z)#這是分子(Y對Z)"
   ]
  },
  {
   "cell_type": "code",
   "execution_count": 356,
   "metadata": {},
   "outputs": [],
   "source": [
    "#計算(x-x_bar)平方\n",
    "DataFrame1['x_squ']=0.00000\n",
    "DataFrame1['y_squ']=0.00000\n",
    "DataFrame1['z_squ']=0.00000\n",
    "for i in range(1,num):\n",
    "    DataFrame1['x_squ'][i] = math.pow(DataFrame1['ROI'][i]-x_bar,2)\n",
    "    DataFrame1['y_squ'][i] = math.pow(DataFrame2['ROI'][i]-y_bar,2)\n",
    "    DataFrame1['z_squ'][i] = math.pow(DataFrame3['ROI'][i]-z_bar,2)\n",
    "\n"
   ]
  },
  {
   "cell_type": "code",
   "execution_count": 357,
   "metadata": {},
   "outputs": [
    {
     "name": "stdout",
     "output_type": "stream",
     "text": [
      "0.07234146154429814\n",
      "0.06716493571083515\n",
      "0.23570842939977377\n"
     ]
    }
   ],
   "source": [
    "#計算summation[(x-x_bar)平方]\n",
    "summationx_squ=0.0\n",
    "for i in range(1,num-1):\n",
    "    summationx_squ+=DataFrame1['x_squ'][i]\n",
    "summationy_squ=0.0\n",
    "for i in range(1,num-1):\n",
    "    summationy_squ+=DataFrame1['y_squ'][i]\n",
    "summationz_squ=0.0\n",
    "for i in range(1,num-1):\n",
    "    summationz_squ+=DataFrame1['z_squ'][i]\n",
    "    \n",
    "print(summationx_squ)\n",
    "print(summationy_squ)    \n",
    "print(summationz_squ)    \n"
   ]
  },
  {
   "cell_type": "code",
   "execution_count": 358,
   "metadata": {},
   "outputs": [],
   "source": [
    "#相關係數的分母\n",
    "Denominator=math.pow(summationx_squ*summationy_squ,0.5)#X對Y\n",
    "Denominator2=math.pow(summationx_squ*summationz_squ,0.5)#X對Z\n",
    "Denominator3=math.pow(summationy_squ*summationz_squ,0.5)#Y對Z"
   ]
  },
  {
   "cell_type": "code",
   "execution_count": 359,
   "metadata": {},
   "outputs": [
    {
     "name": "stdout",
     "output_type": "stream",
     "text": [
      "0.4480205674849813\n",
      "0.4726649583699644\n",
      "0.30022282393957606\n"
     ]
    }
   ],
   "source": [
    "#計算相關係數\n",
    "cor1_2=0\n",
    "cor1_2=sumx_y/Denominator\n",
    "print(cor1_2)#X對Y\n",
    "\n",
    "cor1_3=0\n",
    "cor1_3=sumx_z/Denominator2\n",
    "print(cor1_3)#X對Z\n",
    "\n",
    "cor2_3=0\n",
    "cor2_3=sumy_z/Denominator3\n",
    "print(cor2_3)#Y對Z"
   ]
  },
  {
   "cell_type": "code",
   "execution_count": 360,
   "metadata": {},
   "outputs": [
    {
     "name": "stdout",
     "output_type": "stream",
     "text": [
      "             台積電       聯發科       旺 宏\n",
      "0  台積電  1.000000  0.448021  0.472665\n",
      "1  聯發科  0.448021  1.000000  0.300223\n",
      "2  旺 宏  0.472665  0.300223  1.000000\n"
     ]
    }
   ],
   "source": [
    "cor={'  ':['台積電','聯發科','旺 宏',],'台積電':[1,cor1_2,cor1_3],'聯發科':[cor1_2,1,cor2_3],'旺 宏':[cor1_3,cor2_3,1]}\n",
    "corr=pd.DataFrame(cor)\n",
    "print(corr)\n",
    "#驗證相關係數是否正確:將XYZ都改成同一支股票代碼，若為1即正確"
   ]
  },
  {
   "cell_type": "code",
   "execution_count": 361,
   "metadata": {},
   "outputs": [
    {
     "name": "stdout",
     "output_type": "stream",
     "text": [
      "0.2689636807159996\n",
      "0.2591619873955962\n",
      "0.48549812502189316\n"
     ]
    }
   ],
   "source": [
    "#算波動率 sigma(R), 年\n",
    "sigmax=0.0\n",
    "sigmax=math.pow(summationx_squ/(num),0.5)*math.pow(num,0.5)\n",
    "print(sigmax)\n",
    "\n",
    "sigmay=0.0\n",
    "sigmay=math.pow(summationy_squ/(num),0.5)*math.pow(num,0.5)\n",
    "print(sigmay)\n",
    "\n",
    "sigmaz=0.0\n",
    "sigmaz=math.pow(summationz_squ/(num),0.5)*math.pow(num,0.5)\n",
    "print(sigmaz)\n"
   ]
  },
  {
   "cell_type": "code",
   "execution_count": 362,
   "metadata": {},
   "outputs": [
    {
     "name": "stdout",
     "output_type": "stream",
     "text": [
      "0.271626941289926\n",
      "0.1506959306692868\n",
      "0.5000960489192978\n"
     ]
    }
   ],
   "source": [
    "#年化報酬\n",
    "print(x_sum)\n",
    "print(y_sum)\n",
    "print(z_sum)"
   ]
  },
  {
   "cell_type": "code",
   "execution_count": 363,
   "metadata": {},
   "outputs": [
    {
     "name": "stdout",
     "output_type": "stream",
     "text": [
      "            累積報酬       波動率\n",
      "0  台積電  0.271627  0.268964\n",
      "1  聯發科  0.150696  0.259162\n",
      "2  旺 宏  0.500096  0.485498\n"
     ]
    }
   ],
   "source": [
    "roi={'  ':['台積電','聯發科','旺 宏',],'累積報酬':[x_sum,y_sum,z_sum],'波動率':[sigmax,sigmay,sigmaz]}\n",
    "roii=pd.DataFrame(roi)\n",
    "print(roii)"
   ]
  },
  {
   "cell_type": "code",
   "execution_count": 364,
   "metadata": {},
   "outputs": [],
   "source": [
    "#進行配置的考量:波動率低可以降低夏普值的分母，獲利率高可以提升夏普值的分子\n",
    "#設置投資組合1 台:0.33 聯0.33 旺宏0.33\n",
    "#設置投資組合2 台:0.1 聯0.1 旺0.8\n",
    "#設置投資組合3 台:0.45 聯0.1 旺0.45\n",
    "#設置投資組合 台:0.1 聯0.8 旺0.1\n",
    "\n",
    "#Mini variance=(權重1*sigmax)^2+(權重2*sigmay)^2+(權重2 *sigmaz)^2\n",
    "#+(2*權重1 *權重3*cor1_2*sigmax*sigmay)\n",
    "#+(2*權重1 *權重2 *cor1_3*sigmax*sigmaz)\n",
    "#+(2*權重3*權重2 *cor2_3*sigmay*sigmaz)\n",
    "\n",
    "#夏普值=(年化報酬-0.1)/Mini variance^0.5 0.1是無風險利率"
   ]
  },
  {
   "cell_type": "code",
   "execution_count": 365,
   "metadata": {},
   "outputs": [
    {
     "name": "stdout",
     "output_type": "stream",
     "text": [
      "0.7762605377994479\n"
     ]
    }
   ],
   "source": [
    "#設置投資組合1 台:0.33 聯0.33 旺宏0.33\n",
    "\n",
    "#Mini variance\n",
    "profolio_sharp=0.0\n",
    "profolio_sharp=math.pow((0.33*sigmax),2)+math.pow((0.33*sigmay),2)+math.pow((0.33*sigmaz),2)+(2*0.33*0.33*cor1_2*sigmax*sigmay)+(2*0.33*0.33*cor1_3*sigmax*sigmaz)+(2*0.33*0.33*cor2_3*sigmay*sigmaz)\n",
    "#夏普值\n",
    "pr1=(x_sum*0.33+y_sum*0.33+z_sum*0.33-0.1)/math.pow(profolio_sharp,0.5)\n",
    "print(pr1)"
   ]
  },
  {
   "cell_type": "code",
   "execution_count": 366,
   "metadata": {},
   "outputs": [
    {
     "name": "stdout",
     "output_type": "stream",
     "text": [
      "0.16879241664876182\n",
      "0.8331860932030128\n"
     ]
    }
   ],
   "source": [
    "#設置投資組合2 台:0.1 聯0.1 旺0.8\n",
    "\n",
    "#Mini variance\n",
    "profolio2_sharp=0.0\n",
    "profolio2_sharp=math.pow((0.1*sigmax),2)+math.pow((0.1*sigmay),2)+math.pow((0.8*sigmaz),2)+(2*0.1*0.1*cor1_2*sigmax*sigmay)+(2*0.1*0.8*cor1_3*sigmax*sigmaz)+(2*0.1*0.8*cor2_3*sigmay*sigmaz)\n",
    "print(profolio2_sharp)\n",
    "#夏普值\n",
    "pr2=(x_sum*0.1+y_sum*0.1+z_sum*0.8-0.1)/math.pow(profolio2_sharp,0.5)\n",
    "print(pr2)"
   ]
  },
  {
   "cell_type": "code",
   "execution_count": 367,
   "metadata": {},
   "outputs": [
    {
     "name": "stdout",
     "output_type": "stream",
     "text": [
      "0.09425922840974194\n",
      "0.854497408064854\n"
     ]
    }
   ],
   "source": [
    "#設置投資組合3 台:0.45 聯0.1 旺0.45\n",
    "profolio3_sharp=0.0\n",
    "profolio3_sharp=math.pow((0.45*sigmax),2)+math.pow((0.1*sigmay),2)+math.pow((0.45*sigmaz),2)+(2*0.45*0.1*cor1_2*sigmax*sigmay)+(2*0.45*0.45*cor1_3*sigmax*sigmaz)+(2*0.1*0.45*cor2_3*sigmay*sigmaz)\n",
    "print(profolio3_sharp)\n",
    "\n",
    "pr3=(x_sum*0.45+y_sum*0.1+z_sum*0.45-0.1)/math.pow(profolio3_sharp,0.5)\n",
    "print(pr3)#夏普值"
   ]
  },
  {
   "cell_type": "code",
   "execution_count": 368,
   "metadata": {},
   "outputs": [
    {
     "name": "stdout",
     "output_type": "stream",
     "text": [
      "0.05834115128959223\n",
      "0.4046095702290114\n"
     ]
    }
   ],
   "source": [
    "#設置投資組合4 台:0.1 聯0.8 旺0.1\n",
    "profolio4_sharp=0.0\n",
    "profolio4_sharp=math.pow((0.1*sigmax),2)+math.pow((0.8*sigmay),2)+math.pow((0.1*sigmaz),2)+(2*0.1*0.8*cor1_2*sigmax*sigmay)+(2*0.1*0.1*cor1_3*sigmax*sigmaz)+(2*0.8*0.1*cor2_3*sigmay*sigmaz)\n",
    "print(profolio4_sharp)\n",
    "\n",
    "pr4=(x_sum*0.1+y_sum*0.8+z_sum*0.1-0.1)/math.pow(profolio4_sharp,0.5)\n",
    "print(pr4)#夏普值"
   ]
  },
  {
   "cell_type": "code",
   "execution_count": 369,
   "metadata": {},
   "outputs": [
    {
     "name": "stdout",
     "output_type": "stream",
     "text": [
      "             夏普值\n",
      "0  組合1  0.776261\n",
      "1  組合2  0.833186\n",
      "2  組合3  0.854497\n",
      "3  組合4  0.404610\n"
     ]
    }
   ],
   "source": [
    "#用夏普值進行績效評比\n",
    "performance={'  ':['組合1','組合2','組合3','組合4'],'夏普值':[pr1,pr2,pr3,pr4]}\n",
    "performancee=pd.DataFrame(performance)\n",
    "print(performancee)"
   ]
  },
  {
   "cell_type": "code",
   "execution_count": 370,
   "metadata": {},
   "outputs": [
    {
     "name": "stdout",
     "output_type": "stream",
     "text": [
      "0.8698514490490193\n",
      "最佳配置為: 2330.TW : 0.45 2303.TW : 0.01 2337.TW : 0.54\n"
     ]
    }
   ],
   "source": [
    "#(x_sum*0.33+y_sum*0.33+z_sum*0.33-0.1)/math.pow(profolio_sharp,0.5)\n",
    "a1=0.0#權重1\n",
    "b1=0.0#權重2\n",
    "c1=0.0#權重3\n",
    "profolio5_sharp=0.0\n",
    "pr5=0.0\n",
    "list=[]\n",
    "pr55=0.0\n",
    "pr555=0.0\n",
    "for a1 in range(1,101):\n",
    "    for b1 in range(1,101-a1):\n",
    "        for c1 in range(1,101-a1-b1):\n",
    "            pr555=math.pow(a1/100*sigmax,2)+math.pow(b1/100*sigmay,2)+math.pow(c1/100*sigmaz,2)+(2*a1/100*b1/100*cor1_2*sigmax*sigmay)+(2*a1/100*c1/100*cor1_3*sigmax*sigmaz)+2*b1/100*c1/100*cor2_3*sigmay*sigmaz\n",
    "            pr55=math.pow(pr555,0.5)\n",
    "            if (a1+b1+c1==100):\n",
    "                pr5=(x_sum*a1/100+y_sum*b1/100+z_sum*c1/100-0.1)/pr55\n",
    "                list.append(pr5)\n",
    "            \n",
    "#print(list)\n",
    "#print(len(list))\n",
    "print(max(list))\n",
    "for a1 in range(0,101):\n",
    "    for b1 in range(0,101-a1):\n",
    "        for c1 in range(0,101-a1-b1):\n",
    "            pr555=math.pow(a1/100*sigmax,2)+math.pow(b1/100*sigmay,2)+math.pow(c1/100*sigmaz,2)+(2*a1/100*b1/100*cor1_2*sigmax*sigmay)+(2*a1/100*c1/100*cor1_3*sigmax*sigmaz)+2*b1/100*c1/100*cor2_3*sigmay*sigmaz\n",
    "            pr55=math.pow(pr555,0.5)\n",
    "            if (pr55==0):#避免分母是0\n",
    "                continue\n",
    "            else:\n",
    "                pr5=(x_sum*a1/100+y_sum*b1/100+z_sum*c1/100-0.1)/pr55\n",
    "                if (pr5==max(list)):\n",
    "                    print('最佳配置為:',stock_number,':',a1/100,stock_number2,':',b1/100,stock_number3,\":\",c1/100)"
   ]
  },
  {
   "cell_type": "code",
   "execution_count": null,
   "metadata": {},
   "outputs": [],
   "source": []
  }
 ],
 "metadata": {
  "kernelspec": {
   "display_name": "Python 3",
   "language": "python",
   "name": "python3"
  },
  "language_info": {
   "codemirror_mode": {
    "name": "ipython",
    "version": 3
   },
   "file_extension": ".py",
   "mimetype": "text/x-python",
   "name": "python",
   "nbconvert_exporter": "python",
   "pygments_lexer": "ipython3",
   "version": "3.7.4"
  }
 },
 "nbformat": 4,
 "nbformat_minor": 2
}
