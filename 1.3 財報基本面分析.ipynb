{
 "cells": [
  {
   "cell_type": "markdown",
   "metadata": {},
   "source": [
    "# 一、股票之基本分析探討"
   ]
  },
  {
   "cell_type": "markdown",
   "metadata": {},
   "source": [
    "## 1.3 財報基本面分析"
   ]
  },
  {
   "cell_type": "markdown",
   "metadata": {},
   "source": [
    "爬取台積電(2330)、聯電(2303)、世界先進(5347)、旺宏(2337)  \n",
    "自2018Q2到2020Q1的營業毛利率、營業利益率、EPS、ROA及ROE等資料，做出表格，並進行分析解讀。"
   ]
  },
  {
   "cell_type": "code",
   "execution_count": 3,
   "metadata": {},
   "outputs": [
    {
     "name": "stdout",
     "output_type": "stream",
     "text": [
      "           ⠀2330   2303   2454   2337\n",
      "0  2020Q1  51.77  19.22  43.11  31.28\n",
      "1  2019Q4   50.2  16.65  42.49  26.15\n",
      "2  2019Q3  47.58  17.05  42.08  30.03\n",
      "3  2019Q2  43.02  15.69  41.89  26.78\n",
      "4  2019Q1  41.31   6.94  40.73   25.4\n",
      "5  2018Q4  47.64  12.95  38.92  28.23\n",
      "6  2018Q3  47.39  17.57  38.53  35.35\n",
      "7  2018Q2  47.84  17.18  38.21  45.39\n"
     ]
    }
   ],
   "source": [
    "#1.3以python爬取股票財務報表資料並分析\n",
    "#程式碼如下:\n",
    "\n",
    "#獲利能力分析-營業毛利率\n",
    "import pandas as pd\n",
    "#抓2330財報\n",
    "stocknumber=\"2330\"\n",
    "df1 = pd.read_html('http://jsjustweb.jihsun.com.tw/z/zc/zcr/zcr_'+stocknumber+'.djhtm')\n",
    "df1 = df1[2][0:]\n",
    "df1 = df1[:15]\n",
    "#行列反轉\n",
    "df1_T=df1.T\n",
    "df1.T[8]\n",
    "#抓2303財報\n",
    "stocknumber=\"2303\"\n",
    "df2 = pd.read_html('http://jsjustweb.jihsun.com.tw/z/zc/zcr/zcr_'+stocknumber+'.djhtm')\n",
    "df2 = df2[2][0:]\n",
    "df2 = df2[:15]\n",
    "df2_T=df2.T\n",
    "df2.T[8]\n",
    "#抓5347財報\n",
    "stocknumber=\"2454\"\n",
    "df3 = pd.read_html('http://jsjustweb.jihsun.com.tw/z/zc/zcr/zcr_'+stocknumber+'.djhtm')\n",
    "df3 = df3[2][0:]\n",
    "df3 = df3[:15]\n",
    "df3_T=df3.T\n",
    "df3.T[8]\n",
    "stocknumber=\"2337\"\n",
    "df4 = pd.read_html('http://jsjustweb.jihsun.com.tw/z/zc/zcr/zcr_'+stocknumber+'.djhtm')\n",
    "df4 = df4[2][0:]\n",
    "df4 = df4[:15]\n",
    "df4_T=df4.T\n",
    "df4.T[8]\n",
    "#進行欄位排序\n",
    "\n",
    "aa={'  ':['2020Q1','2019Q4','2019Q3','2019Q2','2019Q1','2018Q4','2018Q3','2018Q2'],'⠀'+'2330':[df1.T[8][1],df1.T[8][2],df1.T[8][3],df1.T[8][4],df1.T[8][5],df1.T[8][6],df1.T[8][7],df1.T[8][8]],'2303':[df2.T[8][1],df2.T[8][2],df2.T[8][3],df2.T[8][4],df2.T[8][5],df2.T[8][6],df2.T[8][7],df2.T[8][8]],'2454':[df3.T[8][1],df3.T[8][2],df3.T[8][3],df3.T[8][4],df3.T[8][5],df3.T[8][6],df3.T[8][7],df3.T[8][8]],'2337':[df4.T[8][1],df4.T[8][2],df4.T[8][3],df4.T[8][4],df4.T[8][5],df4.T[8][6],df4.T[8][7],df4.T[8][8]]}\n",
    "bb=pd.DataFrame(aa)\n",
    "print(bb)\n",
    "#2303最差"
   ]
  },
  {
   "cell_type": "code",
   "execution_count": 4,
   "metadata": {},
   "outputs": [
    {
     "name": "stdout",
     "output_type": "stream",
     "text": [
      "     EPS  ⠀2330   2303  2454  2337\n",
      "0  2020Q1  4.51   0.19  3.64  0.67\n",
      "1  2019Q4  4.47   0.33  4.03  4.47\n",
      "2  2019Q3   3.9   0.25  4.38  1.01\n",
      "3  2019Q2  2.57   0.15  4.11  0.14\n",
      "4  2019Q1  2.37    0.1  2.17  0.08\n",
      "5  2018Q4  3.86  -0.14  2.63  1.57\n",
      "6  2018Q3  3.44   0.14   4.3  1.05\n",
      "7  2018Q2  2.79    0.3  4.72   1.3\n"
     ]
    }
   ],
   "source": [
    "#EPS\n",
    "import pandas as pd\n",
    "#抓2330財報\n",
    "stocknumber=\"2330\"\n",
    "df1 = pd.read_html('http://jsjustweb.jihsun.com.tw/z/zc/zcr/zcr_'+stocknumber+'.djhtm')\n",
    "df1 = df1[2][0:]\n",
    "#抓2303財報\n",
    "stocknumber=\"2303\"\n",
    "df2 = pd.read_html('http://jsjustweb.jihsun.com.tw/z/zc/zcr/zcr_'+stocknumber+'.djhtm')\n",
    "df2 = df2[2][0:]\n",
    "#抓5347財報\n",
    "stocknumber=\"2454\"\n",
    "df3 = pd.read_html('http://jsjustweb.jihsun.com.tw/z/zc/zcr/zcr_'+stocknumber+'.djhtm')\n",
    "df3 = df3[2][0:]\n",
    "stocknumber=\"2337\"\n",
    "df4 = pd.read_html('http://jsjustweb.jihsun.com.tw/z/zc/zcr/zcr_'+stocknumber+'.djhtm')\n",
    "df4 = df4[2][0:]\n",
    "#進行欄位排序\n",
    "aa={'EPS ':['2020Q1','2019Q4','2019Q3','2019Q2','2019Q1','2018Q4','2018Q3','2018Q2'],'⠀'+'2330':[df1[1][25],df1[2][25],df1[3][25],df1[4][25],df1[5][25],df1[6][25],df1[7][25],df1[8][25]],'2303':[df2[1][25],df2[2][25],df2[3][25],df2[4][25],df2[5][25],df2[6][25],df2[7][25],df2[8][25]],'2454':[df3[1][25],df3[2][25],df3[3][25],df3[4][25],df3[5][25],df3[6][25],df3[7][25],df3[8][25]],'2337':[df4[1][25],df1[2][25],df4[3][25],df4[4][25],df4[5][25],df4[6][25],df4[7][25],df4[8][25]]}\n",
    "bb=pd.DataFrame(aa)\n",
    "print(bb)\n",
    "#2303最差"
   ]
  },
  {
   "cell_type": "code",
   "execution_count": 6,
   "metadata": {
    "scrolled": false
   },
   "outputs": [
    {
     "name": "stdout",
     "output_type": "stream",
     "text": [
      "           ⠀2330   2303   2454   2337\n",
      "0  2020Q1  41.38   8.08   9.53  31.28\n",
      "1  2019Q4  39.16   4.82   9.62  26.15\n",
      "2  2019Q3  36.82   6.65  10.46  30.03\n",
      "3  2019Q2  31.66   4.89   9.98  26.78\n",
      "4  2019Q1  29.38   -4.9   6.01   25.4\n",
      "5  2018Q4  36.97  -1.66   6.32  28.23\n",
      "6  2018Q3  36.58   6.18   9.41  35.35\n",
      "7  2018Q2  36.19   8.19   6.77  45.39\n"
     ]
    }
   ],
   "source": [
    "#獲利能力分析-營業利益率\n",
    "import pandas as pd\n",
    "#抓2330財報\n",
    "stocknumber=\"2330\"\n",
    "df1 = pd.read_html('http://jsjustweb.jihsun.com.tw/z/zc/zcr/zcr_'+stocknumber+'.djhtm')\n",
    "df1 = df1[2][0:]\n",
    "df1 = df1[:15]\n",
    "#行列反轉\n",
    "df1_T=df1.T\n",
    "df1.T[10]\n",
    "#抓2303財報\n",
    "stocknumber=\"2303\"\n",
    "df2 = pd.read_html('http://jsjustweb.jihsun.com.tw/z/zc/zcr/zcr_'+stocknumber+'.djhtm')\n",
    "df2 = df2[2][0:]\n",
    "df2 = df2[:15]\n",
    "df2_T=df2.T\n",
    "df2.T[10]\n",
    "#抓5347財報\n",
    "stocknumber=\"2454\"\n",
    "df3 = pd.read_html('http://jsjustweb.jihsun.com.tw/z/zc/zcr/zcr_'+stocknumber+'.djhtm')\n",
    "df3 = df3[2][0:]\n",
    "df3 = df3[:15]\n",
    "df3_T=df3.T\n",
    "df3.T[10]\n",
    "stocknumber=\"2337\"\n",
    "df4 = pd.read_html('http://jsjustweb.jihsun.com.tw/z/zc/zcr/zcr_'+stocknumber+'.djhtm')\n",
    "df4 = df4[2][0:]\n",
    "df4 = df4[:15]\n",
    "df4_T=df4.T\n",
    "df4.T[10]\n",
    "#進行欄位排序\n",
    "aa={'  ':['2020Q1','2019Q4','2019Q3','2019Q2','2019Q1','2018Q4','2018Q3','2018Q2'],'⠀'+'2330':[df1.T[10][1],df1.T[10][2],df1.T[10][3],df1.T[10][4],df1.T[10][5],df1.T[10][6],df1.T[10][7],df1.T[10][8]],'2303':[df2.T[10][1],df2.T[10][2],df2.T[10][3],df2.T[10][4],df2.T[10][5],df2.T[10][6],df2.T[10][7],df2.T[10][8]],'2454':[df3.T[10][1],df3.T[10][2],df3.T[10][3],df3.T[10][4],df3.T[10][5],df3.T[10][6],df3.T[10][7],df3.T[10][8]],'2337':[df4.T[8][1],df4.T[8][2],df4.T[8][3],df4.T[8][4],df4.T[8][5],df4.T[8][6],df4.T[8][7],df4.T[8][8]]}\n",
    "bb=pd.DataFrame(aa)\n",
    "print(bb)\n",
    "#2303最差"
   ]
  },
  {
   "cell_type": "code",
   "execution_count": 7,
   "metadata": {},
   "outputs": [
    {
     "name": "stdout",
     "output_type": "stream",
     "text": [
      "     ROA  ⠀2330   2303  2454  2337\n",
      "0  2020Q1   5.1   0.48   1.3  2.12\n",
      "1  2019Q4   5.3      1  1.46  1.28\n",
      "2  2019Q3  4.65   0.69  1.59  2.93\n",
      "3  2019Q2  3.05   0.42  1.58  0.48\n",
      "4  2019Q1   2.9   0.18  0.92  0.29\n",
      "5  2018Q4  4.96  -0.66  1.07  4.99\n",
      "6  2018Q3  4.46   0.21  1.64  3.53\n",
      "7  2018Q2  3.55   0.78  1.82  4.64\n"
     ]
    }
   ],
   "source": [
    "#ROA\n",
    "import pandas as pd\n",
    "#抓2330財報\n",
    "stocknumber=\"2330\"\n",
    "df1 = pd.read_html('http://jsjustweb.jihsun.com.tw/z/zc/zcr/zcr_'+stocknumber+'.djhtm')\n",
    "df1 = df1[2][0:]\n",
    "df1 = df1[:15]\n",
    "#抓2303財報\n",
    "stocknumber=\"2303\"\n",
    "df2 = pd.read_html('http://jsjustweb.jihsun.com.tw/z/zc/zcr/zcr_'+stocknumber+'.djhtm')\n",
    "df2 = df2[2][0:]\n",
    "df2 = df2[:15]\n",
    "#抓5347財報\n",
    "stocknumber=\"2454\"\n",
    "df3 = pd.read_html('http://jsjustweb.jihsun.com.tw/z/zc/zcr/zcr_'+stocknumber+'.djhtm')\n",
    "df3 = df3[2][0:]\n",
    "df3 = df3[:15]\n",
    "stocknumber=\"2337\"\n",
    "df4 = pd.read_html('http://jsjustweb.jihsun.com.tw/z/zc/zcr/zcr_'+stocknumber+'.djhtm')\n",
    "df4 = df4[2][0:]\n",
    "df4 = df4[:15]\n",
    "#進行欄位排序\n",
    "aa={'ROA ':['2020Q1','2019Q4','2019Q3','2019Q2','2019Q1','2018Q4','2018Q3','2018Q2'],'⠀'+'2330':[df1[1][4],df1[2][4],df1[3][4],df1[4][4],df1[5][4],df1[6][4],df1[7][4],df1[8][4]],'2303':[df2[1][4],df2[2][4],df2[3][4],df2[4][4],df2[5][4],df2[6][4],df2[7][4],df2[8][4]],'2454':[df3[1][4],df3[2][4],df3[3][4],df3[4][4],df3[5][4],df3[6][4],df3[7][4],df3[8][4]],'2337':[df4[1][4],df4[2][4],df4[3][4],df4[4][4],df4[5][4],df4[6][4],df4[7][4],df4[8][4]]}\n",
    "bb=pd.DataFrame(aa)\n",
    "print(bb)\n",
    "#2303最差"
   ]
  },
  {
   "cell_type": "code",
   "execution_count": 8,
   "metadata": {},
   "outputs": [
    {
     "name": "stdout",
     "output_type": "stream",
     "text": [
      "     ROE  ⠀2330   2303  2454  2337\n",
      "0  2020Q1   7.1   0.59  1.81  3.72\n",
      "1  2019Q4  7.23   1.53  2.04  2.35\n",
      "2  2019Q3  6.44   0.95   2.3  6.04\n",
      "3  2019Q2  4.05   0.46  2.26  0.86\n",
      "4  2019Q1  3.59   0.04  1.22  0.45\n",
      "5  2018Q4  6.15  -1.43  1.49  9.49\n",
      "6  2018Q3  5.81   0.09  2.53  6.82\n",
      "7  2018Q2  4.67   1.13  2.79  8.64\n"
     ]
    }
   ],
   "source": [
    "#ROE\n",
    "import pandas as pd\n",
    "#抓2330財報\n",
    "stocknumber=\"2330\"\n",
    "df1 = pd.read_html('http://jsjustweb.jihsun.com.tw/z/zc/zcr/zcr_'+stocknumber+'.djhtm')\n",
    "df1 = df1[2][0:]\n",
    "df1 = df1[:15]\n",
    "#抓2303財報\n",
    "stocknumber=\"2303\"\n",
    "df2 = pd.read_html('http://jsjustweb.jihsun.com.tw/z/zc/zcr/zcr_'+stocknumber+'.djhtm')\n",
    "df2 = df2[2][0:]\n",
    "df2 = df2[:15]\n",
    "#抓5347財報\n",
    "stocknumber=\"2454\"\n",
    "df3 = pd.read_html('http://jsjustweb.jihsun.com.tw/z/zc/zcr/zcr_'+stocknumber+'.djhtm')\n",
    "df3 = df3[2][0:]\n",
    "df3 = df3[:15]\n",
    "stocknumber=\"2337\"\n",
    "df4 = pd.read_html('http://jsjustweb.jihsun.com.tw/z/zc/zcr/zcr_'+stocknumber+'.djhtm')\n",
    "df4 = df4[2][0:]\n",
    "df4 = df4[:15]\n",
    "#進行欄位排序\n",
    "aa={'ROE ':['2020Q1','2019Q4','2019Q3','2019Q2','2019Q1','2018Q4','2018Q3','2018Q2'],'⠀'+'2330':[df1[1][6],df1[2][6],df1[3][6],df1[4][6],df1[5][6],df1[6][6],df1[7][6],df1[8][6]],'2303':[df2[1][6],df2[2][6],df2[3][6],df2[4][6],df2[5][6],df2[6][6],df2[7][6],df2[8][6]],'2454':[df3[1][6],df3[2][6],df3[3][6],df3[4][6],df3[5][6],df3[6][6],df3[7][6],df3[8][6]],'2337':[df4[1][6],df4[2][6],df4[3][6],df4[4][6],df4[5][6],df4[6][6],df4[7][6],df4[8][6]]}\n",
    "bb=pd.DataFrame(aa)\n",
    "print(bb)\n",
    "#2303最差"
   ]
  },
  {
   "cell_type": "code",
   "execution_count": null,
   "metadata": {},
   "outputs": [],
   "source": []
  },
  {
   "cell_type": "code",
   "execution_count": null,
   "metadata": {},
   "outputs": [],
   "source": []
  },
  {
   "cell_type": "code",
   "execution_count": null,
   "metadata": {},
   "outputs": [],
   "source": []
  },
  {
   "cell_type": "code",
   "execution_count": null,
   "metadata": {},
   "outputs": [],
   "source": []
  }
 ],
 "metadata": {
  "kernelspec": {
   "display_name": "Python 3",
   "language": "python",
   "name": "python3"
  },
  "language_info": {
   "codemirror_mode": {
    "name": "ipython",
    "version": 3
   },
   "file_extension": ".py",
   "mimetype": "text/x-python",
   "name": "python",
   "nbconvert_exporter": "python",
   "pygments_lexer": "ipython3",
   "version": "3.7.3"
  }
 },
 "nbformat": 4,
 "nbformat_minor": 4
}
